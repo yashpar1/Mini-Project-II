{
 "cells": [
  {
   "cell_type": "code",
   "execution_count": 44,
   "metadata": {},
   "outputs": [],
   "source": [
    "import requests as re\n",
    "import os\n",
    "import pandas as pd\n",
    "import numpy as np\n",
    "import sqlite3\n",
    "from sqlite3 import Error\n",
    "\n",
    "four_api = os.environ['FOURSQUARE_API_KEY']\n",
    "yelp_api = os.environ['YELP_API_KEY']\n",
    "google_api = os.environ['GOOGLE_API_KEY']\n",
    "\n",
    "#defining location parameters for searches\n",
    "places = 'bar'\n",
    "radius = '1000'\n",
    "lat = '37.8044'\n",
    "long = '-122.2712'\n",
    "\n",
    "\n",
    "four_header_dict = {\n",
    "    'Accept': 'application/json',\n",
    "    'Authorization': four_api\n",
    "}\n",
    "\n",
    "yelp_header_dict = {\n",
    "    'Accept': 'application/json',\n",
    "    'Authorization': f'Bearer {yelp_api}'\n",
    "}\n",
    "\n",
    "def execute_query(connection, query):\n",
    "    cursor = connection.cursor()\n",
    "    try:\n",
    "        cursor.execute(query)\n",
    "        connection.commit()\n",
    "    except Error as e:\n",
    "        print(f\"SQL Error'{e}'\")\n",
    "        \n",
    "connect = sqlite3.connect('../data/poi.db')\n",
    "\n",
    "\n",
    "def data_to_sql(data, connection, table_name):\n",
    "    \"\"\"\n",
    "    Takes a list of dictionaries containing consistently formatted data, an SQL connection, and a table_name as a string, \n",
    "    and creates a SQL table with all data inserted. Column names/dictionary keys cannot contain spaces.\n",
    "    \"\"\"\n",
    "    #Takes the first dictionary and obtains column names and data types from its keys, changing types into their SQL counterparts\n",
    "    sample = data[0]\n",
    "    columns = {}\n",
    "    for key in sample.keys():\n",
    "        columns[key] = type(sample[key])\n",
    "    for element in columns.keys():\n",
    "        if columns[element] == int:\n",
    "            columns[element] = 'INTEGER'\n",
    "        elif columns[element] == str:\n",
    "            columns[element] = 'TEXT'\n",
    "        elif columns[element] == float:\n",
    "            columns[element] = 'DECIMAL'\n",
    "        else:\n",
    "            return 'Add data type to function'\n",
    "        \n",
    "    #creates SQL table with columns named after dictionary keys\n",
    "    create_table = f'''\n",
    "    CREATE TABLE IF NOT EXISTS {table_name} (\n",
    "        id INTEGER PRIMARY KEY AUTOINCREMENT'''\n",
    "    for element in columns.keys():\n",
    "        create_table += f', {element} {columns[element]}'\n",
    "    create_table += ');'\n",
    "    execute_query(connection, create_table)\n",
    "    \n",
    "    #inserts data into table\n",
    "    insert = f'''\n",
    "    INSERT INTO {table_name} ({\", \".join(list(columns.keys()))}) VALUES ('''\n",
    "    for row in data:\n",
    "        row_insert = []\n",
    "        for column in columns:\n",
    "            row_insert.append(f'\"{row[column]}\"')\n",
    "        row_insert = insert + ', '.join(row_insert) + ');'\n",
    "        execute_query(connection, row_insert)"
   ]
  },
  {
   "cell_type": "markdown",
   "metadata": {},
   "source": [
    "# Foursquare"
   ]
  },
  {
   "cell_type": "markdown",
   "metadata": {},
   "source": [
    "Send a request to Foursquare with a small radius (1000m) with the location of your choice"
   ]
  },
  {
   "cell_type": "code",
   "execution_count": 45,
   "metadata": {},
   "outputs": [],
   "source": [
    "four_url = 'https://api.foursquare.com/v3/'\n",
    "four_search = 'places/search'\n",
    "returns = 'name%2Ccategories%2Clocation%2Crating%2Cpopularity%2Cmenu'\n",
    "limit = '50'\n",
    "four_params = f'?query={places}&ll={lat}%2C{long}&radius={radius}&fields={returns}&limit={limit}'\n",
    "four_response = re.get(four_url + four_search + four_params, headers = four_header_dict)\n",
    "four_res = four_response.json()"
   ]
  },
  {
   "cell_type": "markdown",
   "metadata": {},
   "source": [
    "Parse through the response to get the POI details you want (rating, name, location, etc)"
   ]
  },
  {
   "cell_type": "code",
   "execution_count": 46,
   "metadata": {
    "tags": []
   },
   "outputs": [],
   "source": [
    "'''finds missing rating and popularity metrics, inserting values outside of their defined bounds (1-10 for 'rating', 0-1 for 'popularity') \n",
    "for easier filtering later\n",
    "'''\n",
    "\n",
    "for result in four_res['results']:\n",
    "    if 'rating' not in result:\n",
    "        result['rating'] = 11\n",
    "    if 'popularity' not in result:\n",
    "        result['popularity'] = 2\n",
    "\n",
    "# creates list of dictionaries containing relevant place information\n",
    "four_info = []\n",
    "for result in four_res['results']:\n",
    "    info = {}\n",
    "    info['name'] = result['name']\n",
    "    info['categories'] = result['categories'][0]['name']\n",
    "    info['location'] = result['location']['formatted_address']\n",
    "    info['popularity'] = result['popularity']\n",
    "    info['rating'] = result['rating']\n",
    "    four_info.append(info)\n",
    "\n",
    "#creates another list of dictionaries, this one containing more detailed category information about each place\n",
    "four_cats = []\n",
    "for result in four_res['results']:\n",
    "    cat = {}\n",
    "    cat['name'] = result['name']\n",
    "    try:\n",
    "        cat['category_one'] = result['categories'][0]['name']\n",
    "    except:\n",
    "        cat['category_one'] = 'None'\n",
    "    try:\n",
    "        cat['category_two'] = result['categories'][1]['name']\n",
    "    except:\n",
    "        cat['category_two'] = 'None'\n",
    "    try:\n",
    "        cat['category_three'] = result['categories'][2]['name']\n",
    "    except:\n",
    "        cat['category_three'] = 'None'\n",
    "    four_cats.append(cat)"
   ]
  },
  {
   "cell_type": "code",
   "execution_count": 47,
   "metadata": {},
   "outputs": [
    {
     "data": {
      "text/plain": [
       "[{'name': 'Bar Shiru',\n",
       "  'category_one': 'Cocktail Bar',\n",
       "  'category_two': 'Whisky Bar',\n",
       "  'category_three': 'Restaurant'},\n",
       " {'name': 'Bar 355',\n",
       "  'category_one': 'Bar',\n",
       "  'category_two': 'Restaurant',\n",
       "  'category_three': 'None'},\n",
       " {'name': 'Twelve Bar',\n",
       "  'category_one': 'Bar',\n",
       "  'category_two': 'American Restaurant',\n",
       "  'category_three': 'None'}]"
      ]
     },
     "execution_count": 47,
     "metadata": {},
     "output_type": "execute_result"
    }
   ],
   "source": [
    "four_cats[:3]"
   ]
  },
  {
   "cell_type": "code",
   "execution_count": 48,
   "metadata": {},
   "outputs": [
    {
     "name": "stdout",
     "output_type": "stream",
     "text": [
      "SQL Error'no such table: foursquare_places'\n",
      "SQL Error'no such table: foursquare_categories'\n"
     ]
    }
   ],
   "source": [
    "#drops the table if it exists in order to prevent duplicate entries and to allow for easier changing of table structure\n",
    "execute_query(connect, 'DROP TABLE foursquare_places')\n",
    "execute_query(connect, 'DROP TABLE foursquare_categories')"
   ]
  },
  {
   "cell_type": "code",
   "execution_count": 49,
   "metadata": {},
   "outputs": [],
   "source": [
    "data_to_sql(four_info, connect, 'foursquare_places')"
   ]
  },
  {
   "cell_type": "code",
   "execution_count": 50,
   "metadata": {
    "jupyter": {
     "source_hidden": true
    },
    "tags": []
   },
   "outputs": [],
   "source": [
    "def data_to_sql2(data, connection, table_name):\n",
    "    \"\"\"\n",
    "    Takes a list of dictionaries containing consistently formatted data, an SQL connection, and a table_name as a string, \n",
    "    and creates a SQL table with all data inserted. Column names/dictionary keys cannot contain spaces.\n",
    "    \"\"\"\n",
    "    #Takes the first dictionary and obtains column names and data types from its keys, changing types into their SQL counterparts\n",
    "    sample = data[0]\n",
    "    columns = {}\n",
    "    for key in sample.keys():\n",
    "        columns[key] = type(sample[key])\n",
    "    for element in columns.keys():\n",
    "        if columns[element] == int:\n",
    "            columns[element] = 'INTEGER'\n",
    "        elif columns[element] == str:\n",
    "            columns[element] = 'TEXT'\n",
    "        elif columns[element] == float:\n",
    "            columns[element] = 'DECIMAL'\n",
    "        else:\n",
    "            return 'Add data type to function'\n",
    "        \n",
    "    #creates SQL table with columns named after dictionary keys\n",
    "    create_table = f'''\n",
    "    CREATE TABLE IF NOT EXISTS {table_name} (\n",
    "        id INTEGER PRIMARY KEY AUTOINCREMENT'''\n",
    "    for element in columns.keys():\n",
    "        create_table += f', {element} {columns[element]}'\n",
    "    foreign = 'FOREIGN KEY(name) REFERENCES foursquare_places(name)'\n",
    "    create_table += ');'\n",
    "    execute_query(connection, create_table)\n",
    "    \n",
    "    #inserts data into table\n",
    "    insert = f'''\n",
    "    INSERT INTO {table_name} ({\", \".join(list(columns.keys()))}) VALUES ('''\n",
    "    for row in data:\n",
    "        row_insert = []\n",
    "        for column in columns:\n",
    "            row_insert.append(f'\"{row[column]}\"')\n",
    "        row_insert = insert + ', '.join(row_insert) + ');'\n",
    "        execute_query(connection, row_insert)"
   ]
  },
  {
   "cell_type": "code",
   "execution_count": 51,
   "metadata": {},
   "outputs": [],
   "source": [
    "data_to_sql2(four_cats, connect, 'foursquare_categories')"
   ]
  },
  {
   "cell_type": "code",
   "execution_count": null,
   "metadata": {},
   "outputs": [],
   "source": []
  },
  {
   "cell_type": "markdown",
   "metadata": {},
   "source": [
    "Put your parsed results into a DataFrame"
   ]
  },
  {
   "cell_type": "code",
   "execution_count": 52,
   "metadata": {},
   "outputs": [],
   "source": [
    "four_data = pd.read_sql_query('SELECT * FROM foursquare_places', connect, index_col='id')\n",
    "four_cats_data = pd.read_sql_query('SELECT * FROM foursquare_categories', connect, index_col='id')"
   ]
  },
  {
   "cell_type": "code",
   "execution_count": 53,
   "metadata": {
    "jupyter": {
     "source_hidden": true
    },
    "tags": []
   },
   "outputs": [
    {
     "data": {
      "text/html": [
       "<div>\n",
       "<style scoped>\n",
       "    .dataframe tbody tr th:only-of-type {\n",
       "        vertical-align: middle;\n",
       "    }\n",
       "\n",
       "    .dataframe tbody tr th {\n",
       "        vertical-align: top;\n",
       "    }\n",
       "\n",
       "    .dataframe thead th {\n",
       "        text-align: right;\n",
       "    }\n",
       "</style>\n",
       "<table border=\"1\" class=\"dataframe\">\n",
       "  <thead>\n",
       "    <tr style=\"text-align: right;\">\n",
       "      <th></th>\n",
       "      <th>name</th>\n",
       "      <th>categories</th>\n",
       "      <th>location</th>\n",
       "      <th>popularity</th>\n",
       "      <th>rating</th>\n",
       "    </tr>\n",
       "    <tr>\n",
       "      <th>id</th>\n",
       "      <th></th>\n",
       "      <th></th>\n",
       "      <th></th>\n",
       "      <th></th>\n",
       "      <th></th>\n",
       "    </tr>\n",
       "  </thead>\n",
       "  <tbody>\n",
       "    <tr>\n",
       "      <th>1</th>\n",
       "      <td>Bar Shiru</td>\n",
       "      <td>Cocktail Bar</td>\n",
       "      <td>1611 Telegraph Ave, Oakland, CA 94612</td>\n",
       "      <td>0.974027</td>\n",
       "      <td>8.9</td>\n",
       "    </tr>\n",
       "    <tr>\n",
       "      <th>2</th>\n",
       "      <td>Bar 355</td>\n",
       "      <td>Bar</td>\n",
       "      <td>355 19th St, Oakland, CA 94612</td>\n",
       "      <td>0.923766</td>\n",
       "      <td>7.9</td>\n",
       "    </tr>\n",
       "    <tr>\n",
       "      <th>3</th>\n",
       "      <td>Twelve Bar</td>\n",
       "      <td>Bar</td>\n",
       "      <td>1001 Broadway (11th Street), Oakland, CA 94607</td>\n",
       "      <td>0.867315</td>\n",
       "      <td>6.6</td>\n",
       "    </tr>\n",
       "    <tr>\n",
       "      <th>4</th>\n",
       "      <td>Stinky’s Bar</td>\n",
       "      <td>Bar</td>\n",
       "      <td>1644 Telegraph Ave (17th), Oakland, CA 94612</td>\n",
       "      <td>0.944793</td>\n",
       "      <td>11.0</td>\n",
       "    </tr>\n",
       "    <tr>\n",
       "      <th>5</th>\n",
       "      <td>Cafe Van Kleef</td>\n",
       "      <td>Art Gallery</td>\n",
       "      <td>1621 Telegraph Ave (at 17th St), Oakland, CA 9...</td>\n",
       "      <td>0.979221</td>\n",
       "      <td>8.9</td>\n",
       "    </tr>\n",
       "  </tbody>\n",
       "</table>\n",
       "</div>"
      ],
      "text/plain": [
       "              name    categories  \\\n",
       "id                                 \n",
       "1        Bar Shiru  Cocktail Bar   \n",
       "2          Bar 355           Bar   \n",
       "3       Twelve Bar           Bar   \n",
       "4     Stinky’s Bar           Bar   \n",
       "5   Cafe Van Kleef   Art Gallery   \n",
       "\n",
       "                                             location  popularity  rating  \n",
       "id                                                                         \n",
       "1               1611 Telegraph Ave, Oakland, CA 94612    0.974027     8.9  \n",
       "2                      355 19th St, Oakland, CA 94612    0.923766     7.9  \n",
       "3      1001 Broadway (11th Street), Oakland, CA 94607    0.867315     6.6  \n",
       "4        1644 Telegraph Ave (17th), Oakland, CA 94612    0.944793    11.0  \n",
       "5   1621 Telegraph Ave (at 17th St), Oakland, CA 9...    0.979221     8.9  "
      ]
     },
     "execution_count": 53,
     "metadata": {},
     "output_type": "execute_result"
    }
   ],
   "source": [
    "four_data.head()"
   ]
  },
  {
   "cell_type": "code",
   "execution_count": 54,
   "metadata": {},
   "outputs": [
    {
     "data": {
      "text/html": [
       "<div>\n",
       "<style scoped>\n",
       "    .dataframe tbody tr th:only-of-type {\n",
       "        vertical-align: middle;\n",
       "    }\n",
       "\n",
       "    .dataframe tbody tr th {\n",
       "        vertical-align: top;\n",
       "    }\n",
       "\n",
       "    .dataframe thead th {\n",
       "        text-align: right;\n",
       "    }\n",
       "</style>\n",
       "<table border=\"1\" class=\"dataframe\">\n",
       "  <thead>\n",
       "    <tr style=\"text-align: right;\">\n",
       "      <th></th>\n",
       "      <th>name</th>\n",
       "      <th>category_one</th>\n",
       "      <th>category_two</th>\n",
       "      <th>category_three</th>\n",
       "    </tr>\n",
       "    <tr>\n",
       "      <th>id</th>\n",
       "      <th></th>\n",
       "      <th></th>\n",
       "      <th></th>\n",
       "      <th></th>\n",
       "    </tr>\n",
       "  </thead>\n",
       "  <tbody>\n",
       "    <tr>\n",
       "      <th>1</th>\n",
       "      <td>Bar Shiru</td>\n",
       "      <td>Cocktail Bar</td>\n",
       "      <td>Whisky Bar</td>\n",
       "      <td>Restaurant</td>\n",
       "    </tr>\n",
       "    <tr>\n",
       "      <th>2</th>\n",
       "      <td>Bar 355</td>\n",
       "      <td>Bar</td>\n",
       "      <td>Restaurant</td>\n",
       "      <td>None</td>\n",
       "    </tr>\n",
       "    <tr>\n",
       "      <th>3</th>\n",
       "      <td>Twelve Bar</td>\n",
       "      <td>Bar</td>\n",
       "      <td>American Restaurant</td>\n",
       "      <td>None</td>\n",
       "    </tr>\n",
       "    <tr>\n",
       "      <th>4</th>\n",
       "      <td>Stinky’s Bar</td>\n",
       "      <td>Bar</td>\n",
       "      <td>None</td>\n",
       "      <td>None</td>\n",
       "    </tr>\n",
       "    <tr>\n",
       "      <th>5</th>\n",
       "      <td>Cafe Van Kleef</td>\n",
       "      <td>Art Gallery</td>\n",
       "      <td>None</td>\n",
       "      <td>None</td>\n",
       "    </tr>\n",
       "  </tbody>\n",
       "</table>\n",
       "</div>"
      ],
      "text/plain": [
       "              name  category_one         category_two category_three\n",
       "id                                                                  \n",
       "1        Bar Shiru  Cocktail Bar           Whisky Bar     Restaurant\n",
       "2          Bar 355           Bar           Restaurant           None\n",
       "3       Twelve Bar           Bar  American Restaurant           None\n",
       "4     Stinky’s Bar           Bar                 None           None\n",
       "5   Cafe Van Kleef   Art Gallery                 None           None"
      ]
     },
     "execution_count": 54,
     "metadata": {},
     "output_type": "execute_result"
    }
   ],
   "source": [
    "four_cats_data.head()"
   ]
  },
  {
   "cell_type": "markdown",
   "metadata": {},
   "source": [
    "# Yelp"
   ]
  },
  {
   "cell_type": "markdown",
   "metadata": {},
   "source": [
    "Send a request with the same location paramaters (location, radius, etc)"
   ]
  },
  {
   "cell_type": "code",
   "execution_count": 55,
   "metadata": {},
   "outputs": [],
   "source": [
    "yelp_url = 'https://api.yelp.com/v3/businesses/'\n",
    "yelp_search = 'search'\n",
    "yelp_params = f'?term={places}&latitude={lat}&longitude={long}&radius={radius}&limit={limit}'\n",
    "yelp_response = re.get(yelp_url + yelp_search + yelp_params, headers = yelp_header_dict)\n",
    "yelp_res = yelp_response.json()"
   ]
  },
  {
   "cell_type": "markdown",
   "metadata": {},
   "source": [
    "Parse through your result and get POI details"
   ]
  },
  {
   "cell_type": "code",
   "execution_count": 56,
   "metadata": {},
   "outputs": [],
   "source": [
    "#Parses through each result from the yelp search, running an API call each time to obtain additional information about each place\n",
    "\n",
    "yelp_info = []\n",
    "for business in yelp_res['businesses']:\n",
    "    bid_id = business['id']\n",
    "    bid_info = re.get(yelp_url + bid_id, headers = yelp_header_dict).json()\n",
    "    info = {}\n",
    "    info['name'] = business['name']\n",
    "    info['categories'] = business['categories'][0]['title']\n",
    "    info['location'] = ' '.join(business['location']['display_address'])\n",
    "    info['popularity'] = business['review_count']\n",
    "    info['rating'] = bid_info['rating']\n",
    "    yelp_info.append(info)"
   ]
  },
  {
   "cell_type": "markdown",
   "metadata": {},
   "source": [
    "Put your parsed results into a DataFrame"
   ]
  },
  {
   "cell_type": "code",
   "execution_count": 57,
   "metadata": {},
   "outputs": [
    {
     "name": "stdout",
     "output_type": "stream",
     "text": [
      "SQL Error'no such table: yelp_places'\n"
     ]
    }
   ],
   "source": [
    "execute_query(connect, 'DROP TABLE yelp_places')"
   ]
  },
  {
   "cell_type": "code",
   "execution_count": 58,
   "metadata": {},
   "outputs": [],
   "source": [
    "data_to_sql(yelp_info, connect, 'yelp_places')"
   ]
  },
  {
   "cell_type": "code",
   "execution_count": 59,
   "metadata": {},
   "outputs": [],
   "source": [
    "yelp_data = pd.read_sql_query('SELECT * FROM yelp_places', connect, index_col='id')"
   ]
  },
  {
   "cell_type": "code",
   "execution_count": 60,
   "metadata": {},
   "outputs": [
    {
     "data": {
      "text/html": [
       "<div>\n",
       "<style scoped>\n",
       "    .dataframe tbody tr th:only-of-type {\n",
       "        vertical-align: middle;\n",
       "    }\n",
       "\n",
       "    .dataframe tbody tr th {\n",
       "        vertical-align: top;\n",
       "    }\n",
       "\n",
       "    .dataframe thead th {\n",
       "        text-align: right;\n",
       "    }\n",
       "</style>\n",
       "<table border=\"1\" class=\"dataframe\">\n",
       "  <thead>\n",
       "    <tr style=\"text-align: right;\">\n",
       "      <th></th>\n",
       "      <th>name</th>\n",
       "      <th>categories</th>\n",
       "      <th>location</th>\n",
       "      <th>popularity</th>\n",
       "      <th>rating</th>\n",
       "    </tr>\n",
       "    <tr>\n",
       "      <th>id</th>\n",
       "      <th></th>\n",
       "      <th></th>\n",
       "      <th></th>\n",
       "      <th></th>\n",
       "      <th></th>\n",
       "    </tr>\n",
       "  </thead>\n",
       "  <tbody>\n",
       "    <tr>\n",
       "      <th>1</th>\n",
       "      <td>Mad Oak</td>\n",
       "      <td>Bars</td>\n",
       "      <td>135 12th St Oakland, CA 94607</td>\n",
       "      <td>713</td>\n",
       "      <td>4.0</td>\n",
       "    </tr>\n",
       "    <tr>\n",
       "      <th>2</th>\n",
       "      <td>Night Heron</td>\n",
       "      <td>Bars</td>\n",
       "      <td>1780 Telegraph Ave Oakland, CA 94612</td>\n",
       "      <td>5</td>\n",
       "      <td>5.0</td>\n",
       "    </tr>\n",
       "    <tr>\n",
       "      <th>3</th>\n",
       "      <td>Hello Stranger</td>\n",
       "      <td>Bars</td>\n",
       "      <td>1724 Broadway Oakland, CA 94612</td>\n",
       "      <td>156</td>\n",
       "      <td>4.0</td>\n",
       "    </tr>\n",
       "    <tr>\n",
       "      <th>4</th>\n",
       "      <td>First Edition</td>\n",
       "      <td>Cocktail Bars</td>\n",
       "      <td>1915 Broadway Oakland, CA 94612</td>\n",
       "      <td>72</td>\n",
       "      <td>4.0</td>\n",
       "    </tr>\n",
       "    <tr>\n",
       "      <th>5</th>\n",
       "      <td>The Miranda</td>\n",
       "      <td>Cocktail Bars</td>\n",
       "      <td>1739 Broadway Oakland, CA 94612</td>\n",
       "      <td>110</td>\n",
       "      <td>4.0</td>\n",
       "    </tr>\n",
       "  </tbody>\n",
       "</table>\n",
       "</div>"
      ],
      "text/plain": [
       "              name     categories                              location  \\\n",
       "id                                                                        \n",
       "1          Mad Oak           Bars         135 12th St Oakland, CA 94607   \n",
       "2      Night Heron           Bars  1780 Telegraph Ave Oakland, CA 94612   \n",
       "3   Hello Stranger           Bars       1724 Broadway Oakland, CA 94612   \n",
       "4    First Edition  Cocktail Bars       1915 Broadway Oakland, CA 94612   \n",
       "5      The Miranda  Cocktail Bars       1739 Broadway Oakland, CA 94612   \n",
       "\n",
       "    popularity  rating  \n",
       "id                      \n",
       "1          713     4.0  \n",
       "2            5     5.0  \n",
       "3          156     4.0  \n",
       "4           72     4.0  \n",
       "5          110     4.0  "
      ]
     },
     "execution_count": 60,
     "metadata": {},
     "output_type": "execute_result"
    }
   ],
   "source": [
    "yelp_data.head()"
   ]
  },
  {
   "cell_type": "markdown",
   "metadata": {
    "tags": []
   },
   "source": [
    "# Google (stretch)"
   ]
  },
  {
   "cell_type": "code",
   "execution_count": 61,
   "metadata": {},
   "outputs": [],
   "source": [
    "google_search = 'https://maps.googleapis.com/maps/api/place/nearbysearch/json?'\n",
    "google_params = f'keyword={places}&location={lat}%2C{long}&radius={radius}&key={google_api}'\n",
    "google_response = re.get(google_search + google_params)\n",
    "google_json = google_response.json()"
   ]
  },
  {
   "cell_type": "code",
   "execution_count": 62,
   "metadata": {
    "tags": []
   },
   "outputs": [],
   "source": [
    "#parses through the data returned from the google place search, running another api call about each place to obtain additional information\n",
    "\n",
    "google_info = []\n",
    "g_fields = 'formatted_address%2Cuser_ratings_total'\n",
    "\n",
    "for result in google_json['results']:\n",
    "    bid_id = result['place_id']\n",
    "    bid_info = re.get(f'https://maps.googleapis.com/maps/api/place/details/json?fields={g_fields}&place_id={bid_id}&key={google_api}').json()\n",
    "    info = {}\n",
    "    info['name'] = result['name']\n",
    "    info['categories'] = result['types'][0]\n",
    "    info['location'] = bid_info['result']['formatted_address']\n",
    "    info['popularity'] = bid_info['result']['user_ratings_total']\n",
    "    info['rating'] = result['rating']\n",
    "    google_info.append(info)"
   ]
  },
  {
   "cell_type": "code",
   "execution_count": 63,
   "metadata": {},
   "outputs": [
    {
     "name": "stdout",
     "output_type": "stream",
     "text": [
      "SQL Error'no such table: google_places'\n"
     ]
    }
   ],
   "source": [
    "execute_query(connect, 'DROP TABLE google_places')"
   ]
  },
  {
   "cell_type": "code",
   "execution_count": 64,
   "metadata": {
    "tags": []
   },
   "outputs": [],
   "source": [
    "data_to_sql(google_info, connect, 'google_places')"
   ]
  },
  {
   "cell_type": "code",
   "execution_count": 65,
   "metadata": {},
   "outputs": [],
   "source": [
    "google_data = pd.read_sql_query('SELECT * FROM google_places', connect, index_col='id')"
   ]
  },
  {
   "cell_type": "code",
   "execution_count": 66,
   "metadata": {},
   "outputs": [
    {
     "data": {
      "text/html": [
       "<div>\n",
       "<style scoped>\n",
       "    .dataframe tbody tr th:only-of-type {\n",
       "        vertical-align: middle;\n",
       "    }\n",
       "\n",
       "    .dataframe tbody tr th {\n",
       "        vertical-align: top;\n",
       "    }\n",
       "\n",
       "    .dataframe thead th {\n",
       "        text-align: right;\n",
       "    }\n",
       "</style>\n",
       "<table border=\"1\" class=\"dataframe\">\n",
       "  <thead>\n",
       "    <tr style=\"text-align: right;\">\n",
       "      <th></th>\n",
       "      <th>name</th>\n",
       "      <th>categories</th>\n",
       "      <th>location</th>\n",
       "      <th>popularity</th>\n",
       "      <th>rating</th>\n",
       "    </tr>\n",
       "    <tr>\n",
       "      <th>id</th>\n",
       "      <th></th>\n",
       "      <th></th>\n",
       "      <th></th>\n",
       "      <th></th>\n",
       "      <th></th>\n",
       "    </tr>\n",
       "  </thead>\n",
       "  <tbody>\n",
       "    <tr>\n",
       "      <th>1</th>\n",
       "      <td>Bar 355</td>\n",
       "      <td>bar</td>\n",
       "      <td>355 19th St, Oakland, CA 94612, USA</td>\n",
       "      <td>211</td>\n",
       "      <td>4.5</td>\n",
       "    </tr>\n",
       "    <tr>\n",
       "      <th>2</th>\n",
       "      <td>Hello Stranger</td>\n",
       "      <td>bar</td>\n",
       "      <td>1724 Broadway, Oakland, CA 94612, USA</td>\n",
       "      <td>337</td>\n",
       "      <td>4.3</td>\n",
       "    </tr>\n",
       "    <tr>\n",
       "      <th>3</th>\n",
       "      <td>Merchants' Saloon</td>\n",
       "      <td>bar</td>\n",
       "      <td>Shasta Produce, 401 2nd St, Oakland, CA 94607,...</td>\n",
       "      <td>429</td>\n",
       "      <td>4.5</td>\n",
       "    </tr>\n",
       "    <tr>\n",
       "      <th>4</th>\n",
       "      <td>Somar Bar and Lounge</td>\n",
       "      <td>bar</td>\n",
       "      <td>1727 Telegraph Ave, Oakland, CA 94612, USA</td>\n",
       "      <td>416</td>\n",
       "      <td>4.4</td>\n",
       "    </tr>\n",
       "    <tr>\n",
       "      <th>5</th>\n",
       "      <td>DREXL</td>\n",
       "      <td>bar</td>\n",
       "      <td>382 19th St, Oakland, CA 94612, USA</td>\n",
       "      <td>277</td>\n",
       "      <td>4.5</td>\n",
       "    </tr>\n",
       "  </tbody>\n",
       "</table>\n",
       "</div>"
      ],
      "text/plain": [
       "                    name categories  \\\n",
       "id                                    \n",
       "1                Bar 355        bar   \n",
       "2         Hello Stranger        bar   \n",
       "3      Merchants' Saloon        bar   \n",
       "4   Somar Bar and Lounge        bar   \n",
       "5                  DREXL        bar   \n",
       "\n",
       "                                             location  popularity  rating  \n",
       "id                                                                         \n",
       "1                 355 19th St, Oakland, CA 94612, USA         211     4.5  \n",
       "2               1724 Broadway, Oakland, CA 94612, USA         337     4.3  \n",
       "3   Shasta Produce, 401 2nd St, Oakland, CA 94607,...         429     4.5  \n",
       "4          1727 Telegraph Ave, Oakland, CA 94612, USA         416     4.4  \n",
       "5                 382 19th St, Oakland, CA 94612, USA         277     4.5  "
      ]
     },
     "execution_count": 66,
     "metadata": {},
     "output_type": "execute_result"
    }
   ],
   "source": [
    "google_data.head()"
   ]
  },
  {
   "cell_type": "markdown",
   "metadata": {},
   "source": [
    "Use the same process as the first two APIs"
   ]
  },
  {
   "cell_type": "markdown",
   "metadata": {},
   "source": [
    "# Database"
   ]
  },
  {
   "cell_type": "markdown",
   "metadata": {},
   "source": [
    "Put all your results in an SQLite3 database (remember, SQLite stores its databases as files in your local machine - make sure to create your database in your project's data/ directory!)"
   ]
  },
  {
   "cell_type": "code",
   "execution_count": null,
   "metadata": {},
   "outputs": [],
   "source": []
  },
  {
   "cell_type": "markdown",
   "metadata": {},
   "source": [
    "Get the top 10 restaurants according to their rating"
   ]
  },
  {
   "cell_type": "code",
   "execution_count": 67,
   "metadata": {},
   "outputs": [],
   "source": [
    "yelp10 = yelp_data.sort_values('rating', ascending = False).head(10)\n",
    "foursquare10 = four_data[four_data['rating'] <= 10].sort_values('rating', ascending = False).head(10)\n",
    "google10 = google_data.sort_values('rating', ascending = False).head(10)"
   ]
  },
  {
   "cell_type": "code",
   "execution_count": 68,
   "metadata": {},
   "outputs": [
    {
     "data": {
      "text/html": [
       "<div>\n",
       "<style scoped>\n",
       "    .dataframe tbody tr th:only-of-type {\n",
       "        vertical-align: middle;\n",
       "    }\n",
       "\n",
       "    .dataframe tbody tr th {\n",
       "        vertical-align: top;\n",
       "    }\n",
       "\n",
       "    .dataframe thead th {\n",
       "        text-align: right;\n",
       "    }\n",
       "</style>\n",
       "<table border=\"1\" class=\"dataframe\">\n",
       "  <thead>\n",
       "    <tr style=\"text-align: right;\">\n",
       "      <th></th>\n",
       "      <th>name</th>\n",
       "      <th>categories</th>\n",
       "      <th>location</th>\n",
       "      <th>popularity</th>\n",
       "      <th>rating</th>\n",
       "    </tr>\n",
       "    <tr>\n",
       "      <th>id</th>\n",
       "      <th></th>\n",
       "      <th></th>\n",
       "      <th></th>\n",
       "      <th></th>\n",
       "      <th></th>\n",
       "    </tr>\n",
       "  </thead>\n",
       "  <tbody>\n",
       "    <tr>\n",
       "      <th>46</th>\n",
       "      <td>Drake's Dealership</td>\n",
       "      <td>Beer Garden</td>\n",
       "      <td>2325 Broadway (at 23rd St), Oakland, CA 94612</td>\n",
       "      <td>0.991932</td>\n",
       "      <td>9.3</td>\n",
       "    </tr>\n",
       "    <tr>\n",
       "      <th>9</th>\n",
       "      <td>Mad Oak</td>\n",
       "      <td>Cocktail Bar</td>\n",
       "      <td>135 12th St (at Madison St), Oakland, CA 94607</td>\n",
       "      <td>0.991213</td>\n",
       "      <td>9.2</td>\n",
       "    </tr>\n",
       "    <tr>\n",
       "      <th>20</th>\n",
       "      <td>Telegraph Bar and Beer Garden</td>\n",
       "      <td>Beer Garden</td>\n",
       "      <td>2318 Telegraph Ave (at 23rd St), Oakland, CA 9...</td>\n",
       "      <td>0.975767</td>\n",
       "      <td>9.0</td>\n",
       "    </tr>\n",
       "    <tr>\n",
       "      <th>1</th>\n",
       "      <td>Bar Shiru</td>\n",
       "      <td>Cocktail Bar</td>\n",
       "      <td>1611 Telegraph Ave, Oakland, CA 94612</td>\n",
       "      <td>0.974027</td>\n",
       "      <td>8.9</td>\n",
       "    </tr>\n",
       "    <tr>\n",
       "      <th>5</th>\n",
       "      <td>Cafe Van Kleef</td>\n",
       "      <td>Art Gallery</td>\n",
       "      <td>1621 Telegraph Ave (at 17th St), Oakland, CA 9...</td>\n",
       "      <td>0.979221</td>\n",
       "      <td>8.9</td>\n",
       "    </tr>\n",
       "    <tr>\n",
       "      <th>7</th>\n",
       "      <td>Drexl</td>\n",
       "      <td>Beer Bar</td>\n",
       "      <td>382 19th St (btwn Webster &amp; Franklin), Oakland...</td>\n",
       "      <td>0.959189</td>\n",
       "      <td>8.9</td>\n",
       "    </tr>\n",
       "    <tr>\n",
       "      <th>10</th>\n",
       "      <td>Viridian</td>\n",
       "      <td>Cocktail Bar</td>\n",
       "      <td>2216 Broadway (btw Grand &amp; 22nd), Oakland, CA ...</td>\n",
       "      <td>0.979166</td>\n",
       "      <td>8.9</td>\n",
       "    </tr>\n",
       "    <tr>\n",
       "      <th>17</th>\n",
       "      <td>The Port Bar</td>\n",
       "      <td>Restaurant</td>\n",
       "      <td>2023 Broadway, Oakland, CA 94612</td>\n",
       "      <td>0.982648</td>\n",
       "      <td>8.5</td>\n",
       "    </tr>\n",
       "    <tr>\n",
       "      <th>44</th>\n",
       "      <td>The Punchdown</td>\n",
       "      <td>Wine Bar</td>\n",
       "      <td>1737 Broadway, Oakland, CA 94612</td>\n",
       "      <td>0.968832</td>\n",
       "      <td>8.3</td>\n",
       "    </tr>\n",
       "    <tr>\n",
       "      <th>42</th>\n",
       "      <td>The Kon-Tiki</td>\n",
       "      <td>Restaurant</td>\n",
       "      <td>347 14th St (at Webster St), Oakland, CA 94612</td>\n",
       "      <td>0.980244</td>\n",
       "      <td>8.3</td>\n",
       "    </tr>\n",
       "  </tbody>\n",
       "</table>\n",
       "</div>"
      ],
      "text/plain": [
       "                             name    categories  \\\n",
       "id                                                \n",
       "46             Drake's Dealership   Beer Garden   \n",
       "9                         Mad Oak  Cocktail Bar   \n",
       "20  Telegraph Bar and Beer Garden   Beer Garden   \n",
       "1                       Bar Shiru  Cocktail Bar   \n",
       "5                  Cafe Van Kleef   Art Gallery   \n",
       "7                           Drexl      Beer Bar   \n",
       "10                       Viridian  Cocktail Bar   \n",
       "17                   The Port Bar    Restaurant   \n",
       "44                  The Punchdown      Wine Bar   \n",
       "42                   The Kon-Tiki    Restaurant   \n",
       "\n",
       "                                             location  popularity  rating  \n",
       "id                                                                         \n",
       "46      2325 Broadway (at 23rd St), Oakland, CA 94612    0.991932     9.3  \n",
       "9      135 12th St (at Madison St), Oakland, CA 94607    0.991213     9.2  \n",
       "20  2318 Telegraph Ave (at 23rd St), Oakland, CA 9...    0.975767     9.0  \n",
       "1               1611 Telegraph Ave, Oakland, CA 94612    0.974027     8.9  \n",
       "5   1621 Telegraph Ave (at 17th St), Oakland, CA 9...    0.979221     8.9  \n",
       "7   382 19th St (btwn Webster & Franklin), Oakland...    0.959189     8.9  \n",
       "10  2216 Broadway (btw Grand & 22nd), Oakland, CA ...    0.979166     8.9  \n",
       "17                   2023 Broadway, Oakland, CA 94612    0.982648     8.5  \n",
       "44                   1737 Broadway, Oakland, CA 94612    0.968832     8.3  \n",
       "42     347 14th St (at Webster St), Oakland, CA 94612    0.980244     8.3  "
      ]
     },
     "execution_count": 68,
     "metadata": {},
     "output_type": "execute_result"
    }
   ],
   "source": [
    "foursquare10"
   ]
  },
  {
   "cell_type": "code",
   "execution_count": 69,
   "metadata": {},
   "outputs": [
    {
     "data": {
      "text/plain": [
       "name          21\n",
       "categories    21\n",
       "location      21\n",
       "popularity    21\n",
       "rating        21\n",
       "dtype: int64"
      ]
     },
     "execution_count": 69,
     "metadata": {},
     "output_type": "execute_result"
    }
   ],
   "source": [
    "foursquaremissing = four_data[four_data['rating'] > 10].count()\n",
    "foursquaremissing"
   ]
  },
  {
   "cell_type": "code",
   "execution_count": 70,
   "metadata": {
    "tags": []
   },
   "outputs": [
    {
     "data": {
      "text/html": [
       "<div>\n",
       "<style scoped>\n",
       "    .dataframe tbody tr th:only-of-type {\n",
       "        vertical-align: middle;\n",
       "    }\n",
       "\n",
       "    .dataframe tbody tr th {\n",
       "        vertical-align: top;\n",
       "    }\n",
       "\n",
       "    .dataframe thead th {\n",
       "        text-align: right;\n",
       "    }\n",
       "</style>\n",
       "<table border=\"1\" class=\"dataframe\">\n",
       "  <thead>\n",
       "    <tr style=\"text-align: right;\">\n",
       "      <th></th>\n",
       "      <th>name</th>\n",
       "      <th>categories</th>\n",
       "      <th>location</th>\n",
       "      <th>popularity</th>\n",
       "      <th>rating</th>\n",
       "    </tr>\n",
       "    <tr>\n",
       "      <th>id</th>\n",
       "      <th></th>\n",
       "      <th></th>\n",
       "      <th></th>\n",
       "      <th></th>\n",
       "      <th></th>\n",
       "    </tr>\n",
       "  </thead>\n",
       "  <tbody>\n",
       "    <tr>\n",
       "      <th>24</th>\n",
       "      <td>Binny’s</td>\n",
       "      <td>Cocktail Bars</td>\n",
       "      <td>532 8th St Oakland, CA 94607</td>\n",
       "      <td>42</td>\n",
       "      <td>5.0</td>\n",
       "    </tr>\n",
       "    <tr>\n",
       "      <th>20</th>\n",
       "      <td>The Kon Tiki Room</td>\n",
       "      <td>Tiki Bars</td>\n",
       "      <td>1900 Telegraph Ave Oakland, CA 94612</td>\n",
       "      <td>5</td>\n",
       "      <td>5.0</td>\n",
       "    </tr>\n",
       "    <tr>\n",
       "      <th>41</th>\n",
       "      <td>Dinner House</td>\n",
       "      <td>Beer Bar</td>\n",
       "      <td>329 14th St Oakland, CA 94612</td>\n",
       "      <td>23</td>\n",
       "      <td>5.0</td>\n",
       "    </tr>\n",
       "    <tr>\n",
       "      <th>2</th>\n",
       "      <td>Night Heron</td>\n",
       "      <td>Bars</td>\n",
       "      <td>1780 Telegraph Ave Oakland, CA 94612</td>\n",
       "      <td>5</td>\n",
       "      <td>5.0</td>\n",
       "    </tr>\n",
       "    <tr>\n",
       "      <th>36</th>\n",
       "      <td>Tamarack</td>\n",
       "      <td>Cocktail Bars</td>\n",
       "      <td>1501 Harrison St Oakland, CA 94612</td>\n",
       "      <td>10</td>\n",
       "      <td>5.0</td>\n",
       "    </tr>\n",
       "    <tr>\n",
       "      <th>17</th>\n",
       "      <td>Sante Adairius Oakland Arbor</td>\n",
       "      <td>Brewpubs</td>\n",
       "      <td>460 8th St Oakland, CA 94607</td>\n",
       "      <td>5</td>\n",
       "      <td>5.0</td>\n",
       "    </tr>\n",
       "    <tr>\n",
       "      <th>25</th>\n",
       "      <td>19th Street Station</td>\n",
       "      <td>Pubs</td>\n",
       "      <td>339 19th St Oakland, CA 94612</td>\n",
       "      <td>53</td>\n",
       "      <td>4.5</td>\n",
       "    </tr>\n",
       "    <tr>\n",
       "      <th>34</th>\n",
       "      <td>Low Bar</td>\n",
       "      <td>Cocktail Bars</td>\n",
       "      <td>2300 Webster St Oakland, CA 94612</td>\n",
       "      <td>79</td>\n",
       "      <td>4.5</td>\n",
       "    </tr>\n",
       "    <tr>\n",
       "      <th>6</th>\n",
       "      <td>Bar Shiru</td>\n",
       "      <td>Cocktail Bars</td>\n",
       "      <td>1611 Telegraph Ave Ste 100 Oakland, CA 94612</td>\n",
       "      <td>145</td>\n",
       "      <td>4.5</td>\n",
       "    </tr>\n",
       "    <tr>\n",
       "      <th>31</th>\n",
       "      <td>The Gallery Art Bar</td>\n",
       "      <td>Art Galleries</td>\n",
       "      <td>310 14th St Oakland, CA 94612</td>\n",
       "      <td>11</td>\n",
       "      <td>4.5</td>\n",
       "    </tr>\n",
       "  </tbody>\n",
       "</table>\n",
       "</div>"
      ],
      "text/plain": [
       "                            name     categories  \\\n",
       "id                                                \n",
       "24                       Binny’s  Cocktail Bars   \n",
       "20             The Kon Tiki Room      Tiki Bars   \n",
       "41                  Dinner House       Beer Bar   \n",
       "2                    Night Heron           Bars   \n",
       "36                      Tamarack  Cocktail Bars   \n",
       "17  Sante Adairius Oakland Arbor       Brewpubs   \n",
       "25           19th Street Station           Pubs   \n",
       "34                       Low Bar  Cocktail Bars   \n",
       "6                      Bar Shiru  Cocktail Bars   \n",
       "31           The Gallery Art Bar  Art Galleries   \n",
       "\n",
       "                                        location  popularity  rating  \n",
       "id                                                                    \n",
       "24                  532 8th St Oakland, CA 94607          42     5.0  \n",
       "20          1900 Telegraph Ave Oakland, CA 94612           5     5.0  \n",
       "41                 329 14th St Oakland, CA 94612          23     5.0  \n",
       "2           1780 Telegraph Ave Oakland, CA 94612           5     5.0  \n",
       "36            1501 Harrison St Oakland, CA 94612          10     5.0  \n",
       "17                  460 8th St Oakland, CA 94607           5     5.0  \n",
       "25                 339 19th St Oakland, CA 94612          53     4.5  \n",
       "34             2300 Webster St Oakland, CA 94612          79     4.5  \n",
       "6   1611 Telegraph Ave Ste 100 Oakland, CA 94612         145     4.5  \n",
       "31                 310 14th St Oakland, CA 94612          11     4.5  "
      ]
     },
     "execution_count": 70,
     "metadata": {},
     "output_type": "execute_result"
    }
   ],
   "source": [
    "yelp10"
   ]
  },
  {
   "cell_type": "code",
   "execution_count": 71,
   "metadata": {},
   "outputs": [
    {
     "data": {
      "text/html": [
       "<div>\n",
       "<style scoped>\n",
       "    .dataframe tbody tr th:only-of-type {\n",
       "        vertical-align: middle;\n",
       "    }\n",
       "\n",
       "    .dataframe tbody tr th {\n",
       "        vertical-align: top;\n",
       "    }\n",
       "\n",
       "    .dataframe thead th {\n",
       "        text-align: right;\n",
       "    }\n",
       "</style>\n",
       "<table border=\"1\" class=\"dataframe\">\n",
       "  <thead>\n",
       "    <tr style=\"text-align: right;\">\n",
       "      <th></th>\n",
       "      <th>name</th>\n",
       "      <th>categories</th>\n",
       "      <th>location</th>\n",
       "      <th>popularity</th>\n",
       "      <th>rating</th>\n",
       "    </tr>\n",
       "    <tr>\n",
       "      <th>id</th>\n",
       "      <th></th>\n",
       "      <th></th>\n",
       "      <th></th>\n",
       "      <th></th>\n",
       "      <th></th>\n",
       "    </tr>\n",
       "  </thead>\n",
       "  <tbody>\n",
       "    <tr>\n",
       "      <th>9</th>\n",
       "      <td>Low Bar</td>\n",
       "      <td>bar</td>\n",
       "      <td>2300 Webster St, Oakland, CA 94612, USA</td>\n",
       "      <td>93</td>\n",
       "      <td>4.8</td>\n",
       "    </tr>\n",
       "    <tr>\n",
       "      <th>14</th>\n",
       "      <td>Bar Shiru</td>\n",
       "      <td>bar</td>\n",
       "      <td>1611 Telegraph Ave #100, Oakland, CA 94612, USA</td>\n",
       "      <td>210</td>\n",
       "      <td>4.8</td>\n",
       "    </tr>\n",
       "    <tr>\n",
       "      <th>10</th>\n",
       "      <td>Penelope</td>\n",
       "      <td>bar</td>\n",
       "      <td>555 12th St Ste. 120, Oakland, CA 94607, USA</td>\n",
       "      <td>51</td>\n",
       "      <td>4.6</td>\n",
       "    </tr>\n",
       "    <tr>\n",
       "      <th>1</th>\n",
       "      <td>Bar 355</td>\n",
       "      <td>bar</td>\n",
       "      <td>355 19th St, Oakland, CA 94612, USA</td>\n",
       "      <td>211</td>\n",
       "      <td>4.5</td>\n",
       "    </tr>\n",
       "    <tr>\n",
       "      <th>13</th>\n",
       "      <td>Cafe Van Kleef</td>\n",
       "      <td>bar</td>\n",
       "      <td>1621 Telegraph Ave, Oakland, CA 94612, USA</td>\n",
       "      <td>895</td>\n",
       "      <td>4.5</td>\n",
       "    </tr>\n",
       "    <tr>\n",
       "      <th>12</th>\n",
       "      <td>First Edition</td>\n",
       "      <td>bar</td>\n",
       "      <td>1915 Broadway, Oakland, CA 94612, USA</td>\n",
       "      <td>106</td>\n",
       "      <td>4.5</td>\n",
       "    </tr>\n",
       "    <tr>\n",
       "      <th>20</th>\n",
       "      <td>The Kon-Tiki</td>\n",
       "      <td>bar</td>\n",
       "      <td>347 14th St #3906, Oakland, CA 94612, USA</td>\n",
       "      <td>482</td>\n",
       "      <td>4.5</td>\n",
       "    </tr>\n",
       "    <tr>\n",
       "      <th>7</th>\n",
       "      <td>19th Street Station</td>\n",
       "      <td>bar</td>\n",
       "      <td>339 19th St, Oakland, CA 94612, USA</td>\n",
       "      <td>65</td>\n",
       "      <td>4.5</td>\n",
       "    </tr>\n",
       "    <tr>\n",
       "      <th>5</th>\n",
       "      <td>DREXL</td>\n",
       "      <td>bar</td>\n",
       "      <td>382 19th St, Oakland, CA 94612, USA</td>\n",
       "      <td>277</td>\n",
       "      <td>4.5</td>\n",
       "    </tr>\n",
       "    <tr>\n",
       "      <th>3</th>\n",
       "      <td>Merchants' Saloon</td>\n",
       "      <td>bar</td>\n",
       "      <td>Shasta Produce, 401 2nd St, Oakland, CA 94607,...</td>\n",
       "      <td>429</td>\n",
       "      <td>4.5</td>\n",
       "    </tr>\n",
       "  </tbody>\n",
       "</table>\n",
       "</div>"
      ],
      "text/plain": [
       "                   name categories  \\\n",
       "id                                   \n",
       "9               Low Bar        bar   \n",
       "14            Bar Shiru        bar   \n",
       "10             Penelope        bar   \n",
       "1               Bar 355        bar   \n",
       "13       Cafe Van Kleef        bar   \n",
       "12        First Edition        bar   \n",
       "20         The Kon-Tiki        bar   \n",
       "7   19th Street Station        bar   \n",
       "5                 DREXL        bar   \n",
       "3     Merchants' Saloon        bar   \n",
       "\n",
       "                                             location  popularity  rating  \n",
       "id                                                                         \n",
       "9             2300 Webster St, Oakland, CA 94612, USA          93     4.8  \n",
       "14    1611 Telegraph Ave #100, Oakland, CA 94612, USA         210     4.8  \n",
       "10       555 12th St Ste. 120, Oakland, CA 94607, USA          51     4.6  \n",
       "1                 355 19th St, Oakland, CA 94612, USA         211     4.5  \n",
       "13         1621 Telegraph Ave, Oakland, CA 94612, USA         895     4.5  \n",
       "12              1915 Broadway, Oakland, CA 94612, USA         106     4.5  \n",
       "20          347 14th St #3906, Oakland, CA 94612, USA         482     4.5  \n",
       "7                 339 19th St, Oakland, CA 94612, USA          65     4.5  \n",
       "5                 382 19th St, Oakland, CA 94612, USA         277     4.5  \n",
       "3   Shasta Produce, 401 2nd St, Oakland, CA 94607,...         429     4.5  "
      ]
     },
     "execution_count": 71,
     "metadata": {},
     "output_type": "execute_result"
    }
   ],
   "source": [
    "google10"
   ]
  },
  {
   "cell_type": "markdown",
   "metadata": {},
   "source": [
    "# Travelling Salesman Problem (stretch)"
   ]
  },
  {
   "cell_type": "markdown",
   "metadata": {},
   "source": [
    "If you have time, follow the steps in the [ortools tutorial](https://developers.google.com/optimization/routing/tsp) using Google's [Directions API](https://developers.google.com/maps/documentation/directions/start)."
   ]
  },
  {
   "cell_type": "code",
   "execution_count": null,
   "metadata": {},
   "outputs": [],
   "source": []
  }
 ],
 "metadata": {
  "kernelspec": {
   "display_name": "Python 3 (ipykernel)",
   "language": "python",
   "name": "python3"
  },
  "language_info": {
   "codemirror_mode": {
    "name": "ipython",
    "version": 3
   },
   "file_extension": ".py",
   "mimetype": "text/x-python",
   "name": "python",
   "nbconvert_exporter": "python",
   "pygments_lexer": "ipython3",
   "version": "3.9.12"
  }
 },
 "nbformat": 4,
 "nbformat_minor": 4
}
